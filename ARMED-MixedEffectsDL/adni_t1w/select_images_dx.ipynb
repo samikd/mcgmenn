{
 "cells": [
  {
   "cell_type": "markdown",
   "metadata": {},
   "source": [
    "Select images from ADNI2 and ADNI3 for preprocessing. These will include images with a corresponding diagnosis as either cognitively normal or Alzheimer's Disease."
   ]
  },
  {
   "cell_type": "code",
   "execution_count": 32,
   "metadata": {},
   "outputs": [],
   "source": [
    "import pandas as pd\n",
    "import numpy as np\n",
    "import seaborn as sns\n",
    "import warnings\n",
    "import datetime as dt\n",
    "import os\n",
    "import glob\n",
    "import matplotlib.pyplot as plt"
   ]
  },
  {
   "cell_type": "markdown",
   "metadata": {},
   "source": [
    "QC information is sourced from the Mayo Clinic-provided QC table. "
   ]
  },
  {
   "cell_type": "code",
   "execution_count": 2,
   "metadata": {},
   "outputs": [],
   "source": [
    "# QC for ADNI2 and Go\n",
    "dfAdni2Go = pd.read_csv('MAYOADIRL_MRI_IMAGEQC_12_08_15.csv', low_memory=False)\n",
    "dfAdni2Go.columns = [s.upper() for s in dfAdni2Go.columns]\n",
    "dfT1w2Go = dfAdni2Go.loc[dfAdni2Go['SERIES_TYPE'] == 'T1']\n",
    "\n",
    "# QC for ADNI3\n",
    "dfAdni3 = pd.read_csv('MAYOADIRL_MRI_QUALITY_ADNI3.csv')\n",
    "dfT1w3 = dfAdni3.loc[dfAdni3['SERIES_TYPE'] == 'MT1']\n",
    "\n",
    "# Summary table including diagnosis\n",
    "dfInfo = pd.read_csv('ADNIMERGE.csv', low_memory=False)"
   ]
  },
  {
   "cell_type": "code",
   "execution_count": 3,
   "metadata": {},
   "outputs": [
    {
     "data": {
      "text/plain": [
       "<AxesSubplot:xlabel='SERIES_QUALITY', ylabel='count'>"
      ]
     },
     "execution_count": 3,
     "metadata": {},
     "output_type": "execute_result"
    },
    {
     "data": {
      "image/png": "[encoded data removed]",
      "text/plain": [
       "<Figure size 432x288 with 1 Axes>"
      ]
     },
     "metadata": {
      "needs_background": "light"
     },
     "output_type": "display_data"
    }
   ],
   "source": [
    "sns.countplot(data=dfAdni2Go, x='SERIES_QUALITY')"
   ]
  },
  {
   "cell_type": "code",
   "execution_count": 4,
   "metadata": {},
   "outputs": [
    {
     "data": {
      "text/plain": [
       "<AxesSubplot:xlabel='SERIES_QUALITY', ylabel='count'>"
      ]
     },
     "execution_count": 4,
     "metadata": {},
     "output_type": "execute_result"
    },
    {
     "data": {
      "image/png": "[encoded data removed]",
      "text/plain": [
       "<Figure size 432x288 with 1 Axes>"
      ]
     },
     "metadata": {
      "needs_background": "light"
     },
     "output_type": "display_data"
    }
   ],
   "source": [
    "sns.countplot(data=dfAdni3, x='SERIES_QUALITY')"
   ]
  },
  {
   "cell_type": "markdown",
   "metadata": {},
   "source": [
    "Keep images with quality rating of 1 or 2"
   ]
  },
  {
   "cell_type": "code",
   "execution_count": 5,
   "metadata": {},
   "outputs": [
    {
     "name": "stdout",
     "output_type": "stream",
     "text": [
      "ADNI2/Go\n",
      "8551 T1w images\n",
      "7681 excellent or good-rated images\n",
      "ADNI3\n",
      "2276 T1w images\n",
      "1904 excellent or good-rated images\n"
     ]
    }
   ],
   "source": [
    "print('ADNI2/Go')\n",
    "print(dfT1w2Go.shape[0], 'T1w images')\n",
    "dfT1w2GoGood = dfT1w2Go.loc[dfT1w2Go['SERIES_QUALITY'].isin([1, 2])].copy()\n",
    "print(dfT1w2GoGood.shape[0], 'excellent or good-rated images')\n",
    "\n",
    "print('ADNI3')\n",
    "print(dfT1w3.shape[0], 'T1w images')\n",
    "dfT1w3Good = dfT1w3.loc[dfT1w3['SERIES_QUALITY'].isin([1, 2])].copy()\n",
    "print(dfT1w3Good.shape[0], 'excellent or good-rated images')"
   ]
  },
  {
   "cell_type": "code",
   "execution_count": 6,
   "metadata": {},
   "outputs": [],
   "source": [
    "# Convert date strings into datetime objects\n",
    "dfInfo['PARSED_DATE'] = [dt.datetime.strptime(str(d), '%Y-%m-%d') for d in dfInfo['EXAMDATE']]\n",
    "dfInfo['PARSED_DATE']\n",
    "\n",
    "dfT1w2GoGood['PARSED_DATE'] = [dt.datetime.strptime(str(d), '%Y%m%d') for d in dfT1w2GoGood['SERIES_DATE']]\n",
    "dfT1w3Good['PARSED_DATE'] = [dt.datetime.strptime(str(d.split(' ')[0]), '%Y-%m-%d') for d in dfT1w3Good['SERIES_DATE']]"
   ]
  },
  {
   "cell_type": "markdown",
   "metadata": {},
   "source": [
    "For each image, find the temporally closest diagnosis."
   ]
  },
  {
   "cell_type": "code",
   "execution_count": 62,
   "metadata": {},
   "outputs": [],
   "source": [
    "def find_dx(df):\n",
    "    dfOut = pd.DataFrame(columns=['RID', 'Study', 'ScanDate', 'Site', 'DX_Scan', \n",
    "                                  'DaysFrom_Scan'])\n",
    "    i = 0\n",
    "    for _, row in df.iterrows():\n",
    "        rid = row['RID']\n",
    "        scandate = row['PARSED_DATE']\n",
    "        dfSubjectInfo = dfInfo.loc[dfInfo['RID'] == rid]\n",
    "        if dfSubjectInfo.shape[0] == 0:\n",
    "            continue\n",
    "        \n",
    "        # Fill in any missing diagnoses, if \n",
    "        # 1) diagnoses at previous and following visits are the same. OR\n",
    "        # 2) previous visit had a dementia diagnosis (let's assume no regression)\n",
    "        dfSubjectInfo = dfSubjectInfo.sort_values('PARSED_DATE')\n",
    "        dfForwardFill = dfSubjectInfo['DX'].fillna(method='ffill')\n",
    "        dfBackFill = dfSubjectInfo['DX'].fillna(method='bfill')\n",
    "        with warnings.catch_warnings():\n",
    "            warnings.simplefilter(action='ignore', category=FutureWarning)\n",
    "            dfFillable = dfSubjectInfo['DX'].isna().values \\\n",
    "                & ((dfForwardFill == dfBackFill).values | (dfForwardFill == 'Dementia').values)\n",
    "\n",
    "        dfSubjectInfo.loc[dfFillable, 'DX'] = dfForwardFill.loc[dfFillable]\n",
    "        \n",
    "        # Find nearest visit to imaging date\n",
    "        idxScan = (dfSubjectInfo['PARSED_DATE'] - scandate).abs().idxmin()\n",
    "        strDiagScan = dfSubjectInfo.loc[idxScan, 'DX']\n",
    "        # Compute distance from imaging date\n",
    "        distScan = dfSubjectInfo['PARSED_DATE'].loc[idxScan] - scandate\n",
    "        site = dfSubjectInfo['SITE'].loc[idxScan]\n",
    "        study = dfSubjectInfo['COLPROT'].loc[idxScan]\n",
    "                \n",
    "        dfOut.loc[i] = [rid, study, scandate, site, strDiagScan, distScan]\n",
    "        i += 1\n",
    "    return dfOut\n",
    "\n",
    "dfScanDX2Go = find_dx(dfT1w2GoGood)\n",
    "dfScanDX3 = find_dx(dfT1w3Good)\n",
    "    "
   ]
  },
  {
   "cell_type": "markdown",
   "metadata": {},
   "source": [
    "Reject any images without a corresponding diagnosis within 3 months of imaging date. Count remaining images."
   ]
  },
  {
   "cell_type": "code",
   "execution_count": 63,
   "metadata": {},
   "outputs": [
    {
     "name": "stdout",
     "output_type": "stream",
     "text": [
      "794 AD images\n",
      "342 unique subjects\n",
      "1998 CN images\n",
      "711 unique subjects\n"
     ]
    }
   ],
   "source": [
    "# ADNIGo not converted to BIDS yet, we will ignore and focus on ADNI2 and 3\n",
    "dfScans = pd.concat([dfScanDX2Go.loc[dfScanDX2Go['Study'] == 'ADNI2'], \n",
    "                     dfScanDX3], axis=0)\n",
    "# Remove duplicate scans (e.g. when multiple scans were acquired in the same session)\n",
    "dfScans = dfScans.loc[~dfScans[['RID', 'ScanDate']].duplicated()]\n",
    "dfScans.reset_index(inplace=True, drop=True)\n",
    "\n",
    "# Reject any images where a diagnosis was not found within 3 months of imaging date\n",
    "dfScans.loc[dfScans['DaysFrom_Scan'].abs() <= dt.timedelta(days=int(30.4 * 3))]\n",
    "\n",
    "# Count AD and CN images\n",
    "dfScansAD = dfScans.loc[dfScans['DX_Scan'] == 'Dementia'].copy()\n",
    "print(dfScansAD.shape[0], 'AD images')\n",
    "print(dfScansAD['RID'].unique().shape[0], 'unique subjects')\n",
    "\n",
    "dfScansCN = dfScans.loc[dfScans['DX_Scan'] == 'CN'].copy()\n",
    "print(dfScansCN.shape[0], 'CN images')\n",
    "print(dfScansCN['RID'].unique().shape[0], 'unique subjects')"
   ]
  },
  {
   "cell_type": "markdown",
   "metadata": {},
   "source": [
    "Find matching locally downloaded images"
   ]
  },
  {
   "cell_type": "code",
   "execution_count": 64,
   "metadata": {},
   "outputs": [],
   "source": [
    "dictStudyRoots = {'ADNI2': '/archive/bioinformatics/DLLab/STUDIES/ADNI2_20201008/source',\n",
    "                  'ADNIGO': '/archive/bioinformatics/DLLab/STUDIES/ADNIGO_20201106/source',\n",
    "                  'ADNI3': '/archive/bioinformatics/DLLab/STUDIES/ADNI3_20201006/source'}\n",
    "dfScans['T1w_Path'] = None\n",
    "for idx, row in dfScans.iterrows():\n",
    "    strDate = dt.datetime.strftime(dfScans.loc[idx, 'ScanDate'], '%Y%m%d')\n",
    "    strImgTemplate = os.path.join(dictStudyRoots[row['Study']],\n",
    "                                'sub-{:04d}'.format(int(row['RID'])),\n",
    "                                'ses-' + strDate ,\n",
    "                                'anat/*T1w.nii.gz')\n",
    "    lsMatches = glob.glob(strImgTemplate)\n",
    "    lsMatches.sort()\n",
    "    if len(lsMatches) >= 1:\n",
    "        dfScans.loc[idx, 'T1w_Path'] = lsMatches[0]\n",
    "    "
   ]
  },
  {
   "cell_type": "code",
   "execution_count": 65,
   "metadata": {},
   "outputs": [
    {
     "name": "stdout",
     "output_type": "stream",
     "text": [
      "694 AD images\n",
      "294 unique subjects\n",
      "1626 CN images\n",
      "595 unique subjects\n"
     ]
    }
   ],
   "source": [
    "dfScansValid = dfScans.loc[~dfScans['T1w_Path'].isna()]\n",
    "dfScansValid = dfScansValid.loc[dfScansValid['DX_Scan'].isin(['Dementia', 'CN'])]\n",
    "dfScansValid.reset_index(inplace=True, drop=True)\n",
    "\n",
    "dfScansAD = dfScansValid.loc[dfScansValid['DX_Scan'] == 'Dementia'].copy()\n",
    "print(dfScansAD.shape[0], 'AD images')\n",
    "print(dfScansAD['RID'].unique().shape[0], 'unique subjects')\n",
    "\n",
    "dfScansCN = dfScansValid.loc[dfScansValid['DX_Scan'] == 'CN'].copy()\n",
    "print(dfScansCN.shape[0], 'CN images')\n",
    "print(dfScansCN['RID'].unique().shape[0], 'unique subjects')"
   ]
  },
  {
   "cell_type": "code",
   "execution_count": 66,
   "metadata": {},
   "outputs": [],
   "source": [
    "dfScansValid.to_csv('image_list_ad_cn.csv')"
   ]
  },
  {
   "cell_type": "markdown",
   "metadata": {},
   "source": [
    "Create input files table for DLLabPipeline"
   ]
  },
  {
   "cell_type": "code",
   "execution_count": 67,
   "metadata": {},
   "outputs": [],
   "source": [
    "dfScansADCN = dfScansValid.loc[dfScansValid['DX_Scan'].isin(['Dementia', 'CN'])]\n",
    "dfInputFiles = pd.DataFrame({'subject': dfScansADCN['RID'].astype(int).apply(lambda x: f'{x:04d}'),\n",
    "                             'session': dfScansADCN['ScanDate'].apply(lambda x: dt.datetime.strftime(x, '%Y%m%d')),\n",
    "                             'run': None,\n",
    "                             'input_t1w': dfScansADCN['T1w_Path']})\n",
    "dfInputFiles.reset_index(inplace=True, drop=True)\n",
    "dfInputFiles.to_csv('sMRI_input_files.csv')"
   ]
  },
  {
   "cell_type": "markdown",
   "metadata": {},
   "source": [
    "Count images and subjects per site."
   ]
  },
  {
   "cell_type": "code",
   "execution_count": 68,
   "metadata": {},
   "outputs": [
    {
     "data": {
      "text/plain": [
       "Text(0, 0.5, 'Subjects')"
      ]
     },
     "execution_count": 68,
     "metadata": {},
     "output_type": "execute_result"
    },
    {
     "data": {
      "image/png": "[encoded data removed]",
      "text/plain": [
       "<Figure size 1440x360 with 2 Axes>"
      ]
     },
     "metadata": {
      "needs_background": "light"
     },
     "output_type": "display_data"
    }
   ],
   "source": [
    "fig, ax = plt.subplots(2, 1, figsize=(20, 5))\n",
    "sns.countplot(data=dfScansValid, x='Site', order=dfScansValid['Site'].value_counts().index, ax=ax[0])\n",
    "dfSubjectsValid = dfScansValid[['RID', 'Site']].copy()\n",
    "dfSubjectsValid = dfSubjectsValid.loc[~dfSubjectsValid['RID'].duplicated()]\n",
    "sns.countplot(data=dfSubjectsValid, x='Site', order=dfSubjectsValid['Site'].value_counts().index, ax=ax[1])\n",
    "ax[0].set_ylabel('Images')\n",
    "ax[1].set_ylabel('Subjects')"
   ]
  }
 ],
 "metadata": {
  "interpreter": {
   "hash": "a5dc4aa0b7969a772c348262b9338538f97e30fb3762c91cf138c2ab2be38e85"
  },
  "kernelspec": {
   "display_name": "Python 3.8.5 64-bit ('Kevin385Ray': conda)",
   "language": "python",
   "name": "python3"
  },
  "language_info": {
   "codemirror_mode": {
    "name": "ipython",
    "version": 3
   },
   "file_extension": ".py",
   "mimetype": "text/x-python",
   "name": "python",
   "nbconvert_exporter": "python",
   "pygments_lexer": "ipython3",
   "version": "3.8.5"
  },
  "orig_nbformat": 4
 },
 "nbformat": 4,
 "nbformat_minor": 2
}
